{
 "cells": [
  {
   "cell_type": "markdown",
   "metadata": {},
   "source": [
    "# Problema de las ocho reinas"
   ]
  },
  {
   "cell_type": "markdown",
   "metadata": {},
   "source": [
    "El problema consiste en poner en un tablero de 8x8 a ocho reinas sin que ninguna logre comerse entre ellas. \n",
    "La manera en que será realizado este problema será por medio de algoritmos evolutivos. Primero construiremos un individuo el cual será probado y mejorado hasta llegar a la solución. \n",
    "Para esto primero hacemos el tablero, lo hacemos en un archivo csv y después lo importamos a python para generar una matriz de 8x8.\n",
    "La matriz contendrá 0’s por default y los 1’s serán las reinas."
   ]
  },
  {
   "cell_type": "markdown",
   "metadata": {},
   "source": [
    "![title](https://www.researchgate.net/profile/Ellips_Masehian/publication/278681097/figure/fig1/AS:391891729305602@1470445677335/a-A-solution-to-the-non-attacking-8-queens-problem-b-An-optimal-solution-to-the.png)"
   ]
  },
  {
   "cell_type": "code",
   "execution_count": 43,
   "metadata": {},
   "outputs": [
    {
     "data": {
      "text/plain": [
       "array([[0, 0, 0, 0, 0, 0, 0, 0],\n",
       "       [0, 0, 0, 0, 0, 0, 0, 0],\n",
       "       [0, 0, 0, 0, 0, 0, 0, 0],\n",
       "       [0, 0, 0, 0, 0, 0, 0, 0],\n",
       "       [0, 0, 0, 0, 0, 0, 0, 0],\n",
       "       [0, 0, 0, 0, 0, 0, 0, 0],\n",
       "       [0, 0, 0, 0, 0, 0, 0, 0],\n",
       "       [0, 0, 0, 0, 0, 0, 0, 0]], dtype=int64)"
      ]
     },
     "execution_count": 43,
     "metadata": {},
     "output_type": "execute_result"
    }
   ],
   "source": [
    "import pandas \n",
    "import numpy as np\n",
    "df = pandas.read_csv(r\"C:\\Users\\wachu\\Documents\\IIA\\Semestre 6\\Optimizacion & Metaheuristicas II\\P1\\programas\\ochoR.csv\",header = None)\n",
    "tablero = df.values\n",
    "tablero"
   ]
  },
  {
   "cell_type": "markdown",
   "metadata": {},
   "source": [
    "### Creación del individuo y población"
   ]
  },
  {
   "cell_type": "markdown",
   "metadata": {},
   "source": [
    "Hacemos una lista que contenga números del 1 al 8, estos números serán las posiciones de nuestras reinas, una vez echa la lista hacemos una permutación, para que todas tengan posiciones diferentes. De esta manera es menos probable que haya reinas en posición vertical.\n",
    "Una vez hecha la función, hacemos otra función que nos servirá para hacer la población. Lo único que hará es llamar la función “create_individuo” N veces, donde N sea el numero de individuos que queramos en nuestra población."
   ]
  },
  {
   "cell_type": "code",
   "execution_count": 44,
   "metadata": {},
   "outputs": [],
   "source": [
    "def create_individuo():\n",
    "    individuo = [i for i in range(8)]\n",
    "    np.random.shuffle(individuo)\n",
    "    return individuo\n",
    "    \n",
    "def create_population(NumP):\n",
    "    population = []\n",
    "    for i in range(NumP):\n",
    "        population.append(create_individuo())\n",
    "    return population\n"
   ]
  },
  {
   "cell_type": "markdown",
   "metadata": {},
   "source": [
    "### Aptitud (fitness)"
   ]
  },
  {
   "cell_type": "markdown",
   "metadata": {},
   "source": [
    "Para calcular el fitness lo primero que tenemos que hacer es poner las reinas en el tablero. Para esto, simplemente iteramos al individuo y ponemos los números en diferentes columnas. "
   ]
  },
  {
   "cell_type": "code",
   "execution_count": 45,
   "metadata": {},
   "outputs": [],
   "source": [
    "def fenotipo(ind):\n",
    "    fenoMat = np.copy(tablero)\n",
    "    for i in range(8):\n",
    "        fenoMat[i,ind[i]] = 1\n",
    "    return fenoMat"
   ]
  },
  {
   "cell_type": "markdown",
   "metadata": {},
   "source": [
    "Una vez obtenida la matriz entonces, checamos primero el movimiento vertical de las reinas. Sabiendo que solo debe de estar una reina en cada columna diferente y que el tablero esta echo de ceros, sumamos columna por columna, si la suma de los números en las columnas es mayor a 1 entonces quiere decir que hay un error y lo añadimos a nuestro contador llamado “fit”, si no entonces no hay ningún error en la parte de las columnas.\n",
    "Debido a la manera en que se generan los individuos, nunca habrá errores al checar las columnas. Lo cual hace más optimo la resolución del problema. Básicamente podemos omitir este paso y continuar con las diagonales"
   ]
  },
  {
   "cell_type": "code",
   "execution_count": 46,
   "metadata": {},
   "outputs": [],
   "source": [
    "def fitnessIndColumnas(matIndv):\n",
    "    fit = 0\n",
    "    lenMat = len(matIndv)-1\n",
    "    for i in range(8):\n",
    "        if np.sum(matIndv[:,i]) > 1:\n",
    "            fit+=1"
   ]
  },
  {
   "cell_type": "markdown",
   "metadata": {},
   "source": [
    "Ahora falta checar el movimiento en diagonal de las reinas. Lo que hacemos es: \n",
    "Primero detectar a la reina, para esto sacamos el “argmax” esto nos da la posición de el numero mas grande de la fila, que en este caso siempre será 1, el cual será la reina. Una vez obtenida la posición de la reina iteramos en dos while’s.\n",
    "\n"
   ]
  },
  {
   "cell_type": "markdown",
   "metadata": {},
   "source": [
    " Para checar la diagonal derecha, aumentamos la posición en horizontal y vertical para así llegar a la posición diagonal. Primero preguntamos si la posición en vertical (columna) es menor al tamaño del arreglo en vertical. Hacemos esto mientras nuestra posición en horizontal sea menor al tamaño de nuestro arreglo, esto es que no se pase del tamaño del lado derecho.\n",
    " "
   ]
  },
  {
   "cell_type": "markdown",
   "metadata": {},
   "source": [
    "Hacemos lo mismo para la posición izquierda, solo que, en vez de aumentar la posición en horizontal, la disminuimos para así llegar a la posición diagonal. Hacemos esto mientras nuestra posición en la fila sea mayor a 0, esto es que no se pase del tamaño, pero ahora del lado izquierdo\n",
    "Cada que encuentre un 1 aumentamos nuestro contador “fit”."
   ]
  },
  {
   "cell_type": "code",
   "execution_count": 47,
   "metadata": {},
   "outputs": [],
   "source": [
    "def fitnessInd(matIndv):\n",
    "    fit = 0\n",
    "    lenMat = len(matIndv)-1\n",
    "    for i in range(8):\n",
    "        if np.sum(matIndv[:,i]) > 1:\n",
    "            fit+=1\n",
    "    j=indx = indx2 = clmn2 = 0\n",
    "    for x in range(8):\n",
    "        clmn = clmn2 = j \n",
    "        m = matIndv[x]\n",
    "        indx = np.argmax(matIndv[x])\n",
    "        indx2 = indx\n",
    "        while indx < lenMat:\n",
    "            if clmn < lenMat:\n",
    "                indx+=1\n",
    "                clmn+=1\n",
    "                if matIndv[clmn,indx] == 1: fit+=1\n",
    "            else: break\n",
    "        while indx2 >0:\n",
    "            if clmn2 < lenMat:\n",
    "                indx2-=1\n",
    "                clmn2+=1\n",
    "                if matIndv[clmn2,indx2] == 1: fit+=1\n",
    "            else: break\n",
    "        j+=1\n",
    "\n",
    "    return fit"
   ]
  },
  {
   "cell_type": "markdown",
   "metadata": {},
   "source": [
    "Finalmente hacemos una función que llame a “fitnessInd” N veces, donde N sea el numero de individuos que queramos en nuestra población."
   ]
  },
  {
   "cell_type": "code",
   "execution_count": 48,
   "metadata": {},
   "outputs": [],
   "source": [
    "def fitness(inds):\n",
    "    fitnessPopu = []\n",
    "    for i in inds:\n",
    "        fenoInd = fenotipo(i)\n",
    "        fitnessPopu.append(fitnessInd(fenoInd))\n",
    "    return fitnessPopu"
   ]
  },
  {
   "cell_type": "markdown",
   "metadata": {},
   "source": [
    "### Reproduccion"
   ]
  },
  {
   "cell_type": "markdown",
   "metadata": {},
   "source": [
    "Para hacer la reproducción lo que hice fue generar un numero random de la mitad del tamaño del individuo (8) esto es para seleccionar a los hijos del padre 1, después los añadimos a un nuevo arreglo que se va a llamar offspring. Una vez que el offspring tenga los elementos del primer padre checamos cuales que no estén en el padre 2 no están en el offspring y los agregamos a este."
   ]
  },
  {
   "cell_type": "code",
   "execution_count": 49,
   "metadata": {},
   "outputs": [],
   "source": [
    "def crossoverInds(ind1,ind2):\n",
    "    offspring=[]\n",
    "    limit = np.random.randint(4)\n",
    "    for i in range(0,limit):\n",
    "        offspring.append(ind1[i])\n",
    "\n",
    "    for j in ind2:\n",
    "        if j not in offspring:\n",
    "            offspring.append(j)\n",
    "    return offspring"
   ]
  },
  {
   "cell_type": "markdown",
   "metadata": {},
   "source": [
    "Finalmente hacemos una función que llame a “crossover” en la que agarramos dos individuos random de la población y generamos un número aleatorio de 0 a 1, después  a estos les aplicamos la función crossoverInds siempre y cuando la probabilidad que sacamos sea menor a la probabilidad de cruza (0.7), si no es menor, entonces agregamos al padre tal cual"
   ]
  },
  {
   "cell_type": "code",
   "execution_count": 50,
   "metadata": {},
   "outputs": [],
   "source": [
    "def crossover(popu,Pc,NumP):\n",
    "    offspringPopu = []\n",
    "    while len(offspringPopu) < NumP:\n",
    "        ProC = np.random.random(1)\n",
    "        n1Rand = np.random.randint(NumP)\n",
    "        n2Rand = np.random.randint(NumP)\n",
    "        if ProC < Pc:\n",
    "            offspringPopu.append(crossoverInds(popu[n1Rand],popu[n2Rand]))\n",
    "        else:\n",
    "            offspringPopu.append(popu[n1Rand])\n",
    "    return offspringPopu"
   ]
  },
  {
   "cell_type": "markdown",
   "metadata": {},
   "source": [
    "### Mutación"
   ]
  },
  {
   "cell_type": "markdown",
   "metadata": {},
   "source": [
    "Para la mutación simplemente hacemos un shuffle de todos los datos para cambiarlos todos de posición. Posteriormente hacemos una función que mande llamar a esa función siempre y cuando nuestra probabilidad de mutación (0.3) sea mayor a la probabilidad que saquemos aleatoriamente. Si no es, agregamos el individuo tal cual."
   ]
  },
  {
   "cell_type": "code",
   "execution_count": 51,
   "metadata": {},
   "outputs": [],
   "source": [
    "def mutacionInd(ind):\n",
    "    np.random.shuffle(ind)\n",
    "    return ind\n",
    "\n",
    "def mutacion(popu,Pm,NumP):\n",
    "    mutacionPopu = []\n",
    "    proM = 0\n",
    "    for ind in popu:\n",
    "        proM = np.random.random(1)\n",
    "        if proM < Pm:\n",
    "            mutacionPopu.append(mutacionInd(ind))\n",
    "        else:\n",
    "            mutacionPopu.append(ind)\n",
    "    return mutacionPopu"
   ]
  },
  {
   "cell_type": "markdown",
   "metadata": {},
   "source": [
    "### Elite"
   ]
  },
  {
   "cell_type": "markdown",
   "metadata": {},
   "source": [
    "Para sacar el individuo elite lo que se hace es sacar el index del valor más bajo en el fitness, ese index nos servirá para buscar al individuo en la población, una vez obtenido regresamos el individuo y el fitness"
   ]
  },
  {
   "cell_type": "code",
   "execution_count": 52,
   "metadata": {},
   "outputs": [],
   "source": [
    "def elite(popu,fit):\n",
    "    indexE = np.argmin(fitnes)\n",
    "    minFit = np.amin(fitnes)\n",
    "    return popu[indexE],minFit"
   ]
  },
  {
   "cell_type": "markdown",
   "metadata": {},
   "source": [
    "Para seleccionar el individuo elite nuevo, lo que hacemos es similar a obtener el individuo elite, esto es sacar el index del valor más bajo en el fitness para luego buscarlo en la populación, así mismo sacamos el valor mínimo del fitness y lo comparamos con el que teníamos, si es menor cambiamos al elite si no, lo añadimos a la población para variar"
   ]
  },
  {
   "cell_type": "code",
   "execution_count": 56,
   "metadata": {},
   "outputs": [],
   "source": [
    "def selectElite(popu,fit,currentElite,currentFit,NumP):\n",
    "    index = np.argmin(fit)\n",
    "    minFit = np.amin(fit)\n",
    "    if minFit < currentFit:\n",
    "        currentFit = minFit\n",
    "        currentElite = popu[index]\n",
    "    else:\n",
    "        n = np.random.randint(NumP)\n",
    "        popu[n] = currentElite\n",
    "        fit[n] = currentFit\n",
    "    return popu,fit,currentElite,currentFit"
   ]
  },
  {
   "cell_type": "markdown",
   "metadata": {},
   "source": [
    "Para la selección lo que hacemos es también sacar dos individuos aleatorios y calcular el fitness mínimo de los dos y ese es el que metemos al arreglo "
   ]
  },
  {
   "cell_type": "code",
   "execution_count": 57,
   "metadata": {},
   "outputs": [],
   "source": [
    "def selection(popu,fit,NumP):\n",
    "    selectArray = []\n",
    "    while len(selectArray)<NumP:\n",
    "        n1 = np.random.randint(NumP)\n",
    "        n2 = np.random.randint(NumP)\n",
    "        minVal = min(fit[n1],fit[n2])\n",
    "        selectArray.append(popu[fit.index(minVal)])\n",
    "    return selectArray"
   ]
  },
  {
   "cell_type": "markdown",
   "metadata": {},
   "source": [
    "## Algoritmo Genetico"
   ]
  },
  {
   "cell_type": "markdown",
   "metadata": {},
   "source": [
    "Una vez que sacamos todas las funciones entonces empezamos a implementarlas, primero sacamos nuestra población inicial, fitness y nuestro primer individuo elite, en este caso nuestra población va a ser de 100 elementos, nuestra probabilidad de cruza de 0.7 y la de mutación de 0.3, nuestra generación será de 100.\n",
    "La generación es las veces que se van a repetir nuestros pasos en el algoritmo, o hasta que encuentre el individuo con fitness 0, es decir la respuesta a nuestro problema.\n",
    "Mientras no pase esto lo que hacemos es hacer la selección, reproducción y mutación de nuestra población, una vez que la sacamos vemos si hay un nuevo elemento elite, y así lo hacemos G veces donde G es el numero de generaciones. \n",
    "Imprimimos en este caso en cada generación el fitness y el num de generación, es en cada generación por que el algoritmo no tarda tanto en encontrar la solución.\n"
   ]
  },
  {
   "cell_type": "code",
   "execution_count": 61,
   "metadata": {},
   "outputs": [
    {
     "name": "stdout",
     "output_type": "stream",
     "text": [
      "Generation: 1  fitness: 1\n",
      "[7, 5, 1, 4, 3, 2, 0, 6]\n",
      "Generation: 2  fitness: 1\n",
      "[2, 4, 5, 0, 6, 3, 1, 7]\n",
      "Generation: 3  fitness: 1\n",
      "[0, 4, 1, 7, 2, 6, 3, 5]\n",
      "Generation: 4  fitness: 1\n",
      "[0, 4, 1, 7, 2, 6, 3, 5]\n",
      "Generation: 5  fitness: 1\n",
      "[0, 4, 1, 7, 2, 6, 3, 5]\n",
      "Generation: 6  fitness: 1\n",
      "[3, 7, 1, 0, 5, 6, 4, 2]\n",
      "Generation: 7  fitness: 1\n",
      "[3, 7, 1, 0, 5, 6, 4, 2]\n",
      "Generation: 8  fitness: 1\n",
      "[3, 7, 1, 0, 5, 6, 4, 2]\n",
      "Generation: 9  fitness: 1\n",
      "[3, 6, 5, 2, 0, 7, 4, 1]\n",
      "Generation: 10  fitness: 1\n",
      "[3, 6, 5, 2, 0, 7, 4, 1]\n",
      "Generation: 11  fitness: 1\n",
      "[3, 6, 5, 2, 0, 7, 4, 1]\n",
      "Generation: 12  fitness: 1\n",
      "[3, 6, 5, 2, 0, 7, 4, 1]\n",
      "Generation: 13  fitness: 0\n",
      "[4, 7, 3, 0, 6, 1, 5, 2]\n",
      "[[0 0 0 0 1 0 0 0]\n",
      " [0 0 0 0 0 0 0 1]\n",
      " [0 0 0 1 0 0 0 0]\n",
      " [1 0 0 0 0 0 0 0]\n",
      " [0 0 0 0 0 0 1 0]\n",
      " [0 1 0 0 0 0 0 0]\n",
      " [0 0 0 0 0 1 0 0]\n",
      " [0 0 1 0 0 0 0 0]]\n"
     ]
    }
   ],
   "source": [
    "N = 100\n",
    "Pc = 0.7\n",
    "Pm = 0.3\n",
    "G = 1000\n",
    "\n",
    "population = create_population(N)\n",
    "fitnes = fitness(population)\n",
    "ind_elit,fit_elite = elite(population,fitnes)\n",
    "g=0\n",
    "\n",
    "while fit_elite > 0 and g < G:\n",
    "    population = selection(population,fitnes,N)\n",
    "    population = crossover(population,Pc,N)\n",
    "    population = mutacion(population,Pm,N)\n",
    "    fitnes = fitness(population)\n",
    "    population,fitnes,ind_elit,fit_elite = selectElite(population,fitnes,ind_elit,fit_elite,N)\n",
    "    g+=1\n",
    "    if g%1==0:\n",
    "        print('Generation:',g,' fitness:',fit_elite)\n",
    "    print(ind_elit)\n",
    "print(fenotipo(ind_elit))"
   ]
  },
  {
   "cell_type": "code",
   "execution_count": null,
   "metadata": {},
   "outputs": [],
   "source": []
  }
 ],
 "metadata": {
  "kernelspec": {
   "display_name": "Python 3",
   "language": "python",
   "name": "python3"
  },
  "language_info": {
   "codemirror_mode": {
    "name": "ipython",
    "version": 3
   },
   "file_extension": ".py",
   "mimetype": "text/x-python",
   "name": "python",
   "nbconvert_exporter": "python",
   "pygments_lexer": "ipython3",
   "version": "3.7.3"
  }
 },
 "nbformat": 4,
 "nbformat_minor": 2
}
